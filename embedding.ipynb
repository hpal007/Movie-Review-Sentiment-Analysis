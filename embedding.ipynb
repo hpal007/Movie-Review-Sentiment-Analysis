{
 "cells": [
  {
   "cell_type": "code",
   "execution_count": 1,
   "metadata": {},
   "outputs": [],
   "source": [
    "from tensorflow.keras.preprocessing.text import one_hot"
   ]
  },
  {
   "cell_type": "code",
   "execution_count": 3,
   "metadata": {},
   "outputs": [],
   "source": [
    "# sentenses\n",
    "sent = [\n",
    "    'the glass of milk', \n",
    "    'the glass of juice',\n",
    "    'the cup of tea',\n",
    "    'I am a good boy',\n",
    "    'I am a good developer',\n",
    "    'understand the meaning of words',\n",
    "    'your life is good'\n",
    "] "
   ]
  },
  {
   "cell_type": "code",
   "execution_count": 5,
   "metadata": {},
   "outputs": [
    {
     "name": "stdout",
     "output_type": "stream",
     "text": [
      "[[8293, 2287, 7630, 5048], [8293, 2287, 7630, 7899], [8293, 5046, 7630, 1642], [3474, 4949, 7478, 399, 7536], [3474, 4949, 7478, 399, 4598], [6215, 8293, 2630, 7630, 9111], [559, 3903, 4076, 399]]\n"
     ]
    }
   ],
   "source": [
    "## define the vocabulary size\n",
    "voc_size = 10000\n",
    "## one hot represnetaion\n",
    "one_hot_rep = [one_hot(word, voc_size) for word in sent]\n",
    "print(one_hot_rep)"
   ]
  },
  {
   "cell_type": "code",
   "execution_count": 9,
   "metadata": {},
   "outputs": [],
   "source": [
    "# word embedding representaion \n",
    "\n",
    "from tensorflow.keras.layers import Embedding\n",
    "from tensorflow.keras.utils import pad_sequences  ## use this to make all the sentences of same size\n",
    "from tensorflow.keras.models import Sequential\n",
    "\n",
    "import numpy as np"
   ]
  },
  {
   "cell_type": "code",
   "execution_count": 10,
   "metadata": {},
   "outputs": [
    {
     "name": "stdout",
     "output_type": "stream",
     "text": [
      "[[   0    0    0    0 8293 2287 7630 5048]\n",
      " [   0    0    0    0 8293 2287 7630 7899]\n",
      " [   0    0    0    0 8293 5046 7630 1642]\n",
      " [   0    0    0 3474 4949 7478  399 7536]\n",
      " [   0    0    0 3474 4949 7478  399 4598]\n",
      " [   0    0    0 6215 8293 2630 7630 9111]\n",
      " [   0    0    0    0  559 3903 4076  399]]\n"
     ]
    }
   ],
   "source": [
    "# make all the vectores of same length\n",
    "sent_length = 8\n",
    "embedded_docs = pad_sequences(one_hot_rep, padding='pre', maxlen=sent_length)\n",
    "print(embedded_docs)"
   ]
  },
  {
   "cell_type": "code",
   "execution_count": 11,
   "metadata": {},
   "outputs": [],
   "source": [
    "# Feature representaion for embedding\n",
    "dimentions = 10"
   ]
  },
  {
   "cell_type": "code",
   "execution_count": 12,
   "metadata": {},
   "outputs": [],
   "source": [
    "model = Sequential()\n",
    "model.add(Embedding(voc_size,dimentions,input_length=sent_length))\n",
    "model.compile('adam', 'mse')"
   ]
  },
  {
   "cell_type": "code",
   "execution_count": 13,
   "metadata": {},
   "outputs": [
    {
     "name": "stdout",
     "output_type": "stream",
     "text": [
      "Model: \"sequential\"\n",
      "_________________________________________________________________\n",
      " Layer (type)                Output Shape              Param #   \n",
      "=================================================================\n",
      " embedding (Embedding)       (None, 8, 10)             100000    \n",
      "                                                                 \n",
      "=================================================================\n",
      "Total params: 100000 (390.62 KB)\n",
      "Trainable params: 100000 (390.62 KB)\n",
      "Non-trainable params: 0 (0.00 Byte)\n",
      "_________________________________________________________________\n"
     ]
    }
   ],
   "source": [
    "model.summary()"
   ]
  },
  {
   "cell_type": "code",
   "execution_count": 15,
   "metadata": {},
   "outputs": [
    {
     "name": "stdout",
     "output_type": "stream",
     "text": [
      "1/1 [==============================] - 0s 28ms/step\n"
     ]
    },
    {
     "data": {
      "text/plain": [
       "array([[ 0.04775394,  0.04996267,  0.03009004,  0.04801757,  0.02375648,\n",
       "        -0.0056633 , -0.04129354,  0.00676201, -0.0483559 , -0.02109338],\n",
       "       [ 0.04775394,  0.04996267,  0.03009004,  0.04801757,  0.02375648,\n",
       "        -0.0056633 , -0.04129354,  0.00676201, -0.0483559 , -0.02109338],\n",
       "       [ 0.04775394,  0.04996267,  0.03009004,  0.04801757,  0.02375648,\n",
       "        -0.0056633 , -0.04129354,  0.00676201, -0.0483559 , -0.02109338],\n",
       "       [ 0.04775394,  0.04996267,  0.03009004,  0.04801757,  0.02375648,\n",
       "        -0.0056633 , -0.04129354,  0.00676201, -0.0483559 , -0.02109338],\n",
       "       [-0.02799383, -0.02752397, -0.02278023,  0.04753963,  0.03081625,\n",
       "         0.01667297,  0.02520067, -0.01417093, -0.04480617, -0.03034999],\n",
       "       [-0.03264043,  0.0490538 ,  0.04198286, -0.01843464, -0.01178256,\n",
       "        -0.0354221 , -0.0459585 , -0.0215916 , -0.01090582,  0.02870822],\n",
       "       [-0.01824436,  0.01764807, -0.04271453, -0.04580253,  0.03635224,\n",
       "         0.02294521,  0.0260894 ,  0.00692428, -0.02682996,  0.00077896],\n",
       "       [-0.00908148,  0.02684954,  0.00650086, -0.0386066 ,  0.01069669,\n",
       "        -0.03649809,  0.02389849, -0.02142851,  0.02994596, -0.04207674]],\n",
       "      dtype=float32)"
      ]
     },
     "execution_count": 15,
     "metadata": {},
     "output_type": "execute_result"
    }
   ],
   "source": [
    "model.predict(embedded_docs[0])"
   ]
  },
  {
   "cell_type": "code",
   "execution_count": null,
   "metadata": {},
   "outputs": [],
   "source": []
  }
 ],
 "metadata": {
  "kernelspec": {
   "display_name": ".venv",
   "language": "python",
   "name": "python3"
  },
  "language_info": {
   "codemirror_mode": {
    "name": "ipython",
    "version": 3
   },
   "file_extension": ".py",
   "mimetype": "text/x-python",
   "name": "python",
   "nbconvert_exporter": "python",
   "pygments_lexer": "ipython3",
   "version": "3.11.11"
  }
 },
 "nbformat": 4,
 "nbformat_minor": 2
}
